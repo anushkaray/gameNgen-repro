{
 "cells": [
  {
   "cell_type": "code",
   "execution_count": 18,
   "metadata": {},
   "outputs": [],
   "source": [
    "import numpy as np\n",
    "import pandas as pd\n",
    "import json\n",
    "\n",
    "images_file = 'screen_data_1.npy'\n",
    "eps_data_file = 'eps_data_1.json'\n",
    "\n",
    "# load images\n",
    "images = np.load(images_file)\n",
    "\n",
    "# load actions and scores array\n",
    "with open(eps_data_file, 'r') as f:\n",
    "    eps_data = json.load(f)\n",
    "\n",
    "actions = eps_data[\"action\"]\n",
    "scores = eps_data[\"score\"]\n",
    "\n",
    "# convert into lists\n",
    "actions = [int(x[0]) for x in actions]\n",
    "scores = [int(x[0]) for x in scores]\n",
    "images = [x for x in images]"
   ]
  },
  {
   "cell_type": "code",
   "execution_count": 19,
   "metadata": {},
   "outputs": [],
   "source": [
    "df = pd.DataFrame({\n",
    "    'scores': [scores],\n",
    "    'actions': [actions],\n",
    "    'images': [images]\n",
    "})"
   ]
  },
  {
   "cell_type": "code",
   "execution_count": 20,
   "metadata": {},
   "outputs": [
    {
     "data": {
      "application/vnd.jupyter.widget-view+json": {
       "model_id": "a359434e7a694165a92964548d06b1f1",
       "version_major": 2,
       "version_minor": 0
      },
      "text/plain": [
       "Uploading the dataset shards:   0%|          | 0/1 [00:00<?, ?it/s]"
      ]
     },
     "metadata": {},
     "output_type": "display_data"
    },
    {
     "data": {
      "application/vnd.jupyter.widget-view+json": {
       "model_id": "33d5897c0b71410a8969b61f58c6bf4c",
       "version_major": 2,
       "version_minor": 0
      },
      "text/plain": [
       "Map:   0%|          | 0/1 [00:00<?, ? examples/s]"
      ]
     },
     "metadata": {},
     "output_type": "display_data"
    },
    {
     "data": {
      "application/vnd.jupyter.widget-view+json": {
       "model_id": "084fcb1718ce42eaa94e3ca49f2cda99",
       "version_major": 2,
       "version_minor": 0
      },
      "text/plain": [
       "Creating parquet from Arrow format:   0%|          | 0/1 [00:00<?, ?ba/s]"
      ]
     },
     "metadata": {},
     "output_type": "display_data"
    },
    {
     "name": "stderr",
     "output_type": "stream",
     "text": [
      "No files have been modified since last commit. Skipping to prevent empty commit.\n"
     ]
    },
    {
     "data": {
      "text/plain": [
       "CommitInfo(commit_url='https://huggingface.co/datasets/Gabaloo1/SMB_RL/commit/64f213ecc6704a82660a20427d038a268096848e', commit_message='Upload dataset', commit_description='', oid='64f213ecc6704a82660a20427d038a268096848e', pr_url=None, repo_url=RepoUrl('https://huggingface.co/datasets/Gabaloo1/SMB_RL', endpoint='https://huggingface.co', repo_type='dataset', repo_id='Gabaloo1/SMB_RL'), pr_revision=None, pr_num=None)"
      ]
     },
     "execution_count": 20,
     "metadata": {},
     "output_type": "execute_result"
    }
   ],
   "source": [
    "from datasets import Dataset, Features, Image, Value, Sequence\n",
    "\n",
    "def generate_hf_parquet_dataset(entries):\n",
    "    features = Features(\n",
    "        {\n",
    "            \"actions\": Sequence(Value(\"int32\")),\n",
    "            \"scores\": Sequence(Value(\"int32\")),\n",
    "            \"images\": Sequence(Image())\n",
    "        }\n",
    "    )\n",
    "    dataset = Dataset.from_list(entries, features=features)\n",
    "\n",
    "    return dataset\n",
    "\n",
    "entries = [{\n",
    "    \"actions\": actions,\n",
    "    \"scores\": scores,\n",
    "    \"images\": images\n",
    "}]\n",
    "\n",
    "dataset = generate_hf_parquet_dataset(entries)\n",
    "\n",
    "# save locally\n",
    "dataset.save_to_disk(\"smb_rl_dataset\")\n",
    "\n",
    "# save to your Hugging Face dataset\n",
    "# dataset.push_to_hub(\"Gabaloo1/SMB_RL\")"
   ]
  }
 ],
 "metadata": {
  "kernelspec": {
   "display_name": "venv",
   "language": "python",
   "name": "python3"
  },
  "language_info": {
   "codemirror_mode": {
    "name": "ipython",
    "version": 3
   },
   "file_extension": ".py",
   "mimetype": "text/x-python",
   "name": "python",
   "nbconvert_exporter": "python",
   "pygments_lexer": "ipython3",
   "version": "3.12.6"
  }
 },
 "nbformat": 4,
 "nbformat_minor": 2
}
