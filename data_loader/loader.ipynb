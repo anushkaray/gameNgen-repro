{
 "cells": [
  {
   "cell_type": "code",
   "execution_count": 15,
   "metadata": {},
   "outputs": [],
   "source": [
    "import numpy as np\n",
    "import pandas as pd\n",
    "import json\n",
    "\n",
    "images_file = 'screen_data_1.npy'\n",
    "eps_data_file = 'eps_data_1.json'\n",
    "\n",
    "# load images\n",
    "images = np.load(images_file)\n",
    "\n",
    "# load actions and scores array\n",
    "with open(eps_data_file, 'r') as f:\n",
    "    eps_data = json.load(f)\n",
    "\n",
    "actions = eps_data[\"action\"]\n",
    "scores = eps_data[\"score\"]\n",
    "\n",
    "# convert into lists\n",
    "actions = [int(x[0]) for x in actions]\n",
    "scores = [int(x[0]) for x in scores]\n",
    "images = [x for x in images]"
   ]
  },
  {
   "cell_type": "code",
   "execution_count": 16,
   "metadata": {},
   "outputs": [],
   "source": [
    "df = pd.DataFrame({\n",
    "    'scores': [scores],\n",
    "    'actions': [actions],\n",
    "    'images': [images]\n",
    "})"
   ]
  },
  {
   "cell_type": "code",
   "execution_count": 17,
   "metadata": {},
   "outputs": [
    {
     "ename": "TypeError",
     "evalue": "int() argument must be a string, a bytes-like object or a real number, not 'list'",
     "output_type": "error",
     "traceback": [
      "\u001b[1;31m---------------------------------------------------------------------------\u001b[0m",
      "\u001b[1;31mTypeError\u001b[0m                                 Traceback (most recent call last)",
      "Cell \u001b[1;32mIn[17], line 21\u001b[0m\n\u001b[0;32m     13\u001b[0m     \u001b[38;5;28;01mreturn\u001b[39;00m dataset\n\u001b[0;32m     15\u001b[0m entries \u001b[38;5;241m=\u001b[39m [{\n\u001b[0;32m     16\u001b[0m     \u001b[38;5;124m\"\u001b[39m\u001b[38;5;124mactions\u001b[39m\u001b[38;5;124m\"\u001b[39m: actions,\n\u001b[0;32m     17\u001b[0m     \u001b[38;5;124m\"\u001b[39m\u001b[38;5;124mscores\u001b[39m\u001b[38;5;124m\"\u001b[39m: scores,\n\u001b[0;32m     18\u001b[0m     \u001b[38;5;124m\"\u001b[39m\u001b[38;5;124mimages\u001b[39m\u001b[38;5;124m\"\u001b[39m: images\n\u001b[0;32m     19\u001b[0m }]\n\u001b[1;32m---> 21\u001b[0m dataset \u001b[38;5;241m=\u001b[39m \u001b[43mgenerate_hf_parquet_dataset\u001b[49m\u001b[43m(\u001b[49m\u001b[43mentries\u001b[49m\u001b[43m)\u001b[49m\n\u001b[0;32m     22\u001b[0m \u001b[38;5;66;03m# dataset.save_to_disk(\"smb_rl_dataset.parquet\")\u001b[39;00m\n\u001b[0;32m     23\u001b[0m dataset\u001b[38;5;241m.\u001b[39mpush_to_hub(\u001b[38;5;124m\"\u001b[39m\u001b[38;5;124mGabaloo1/SMB_RL\u001b[39m\u001b[38;5;124m\"\u001b[39m)\n",
      "Cell \u001b[1;32mIn[17], line 11\u001b[0m, in \u001b[0;36mgenerate_hf_parquet_dataset\u001b[1;34m(entries)\u001b[0m\n\u001b[0;32m      3\u001b[0m \u001b[38;5;28;01mdef\u001b[39;00m \u001b[38;5;21mgenerate_hf_parquet_dataset\u001b[39m(entries):\n\u001b[0;32m      4\u001b[0m     features \u001b[38;5;241m=\u001b[39m Features(\n\u001b[0;32m      5\u001b[0m         {\n\u001b[0;32m      6\u001b[0m             \u001b[38;5;124m\"\u001b[39m\u001b[38;5;124mactions\u001b[39m\u001b[38;5;124m\"\u001b[39m: Sequence(Value(\u001b[38;5;124m\"\u001b[39m\u001b[38;5;124mint32\u001b[39m\u001b[38;5;124m\"\u001b[39m)),\n\u001b[1;32m   (...)\u001b[0m\n\u001b[0;32m      9\u001b[0m         }\n\u001b[0;32m     10\u001b[0m     )\n\u001b[1;32m---> 11\u001b[0m     dataset \u001b[38;5;241m=\u001b[39m \u001b[43mDataset\u001b[49m\u001b[38;5;241;43m.\u001b[39;49m\u001b[43mfrom_list\u001b[49m\u001b[43m(\u001b[49m\u001b[43mentries\u001b[49m\u001b[43m,\u001b[49m\u001b[43m \u001b[49m\u001b[43mfeatures\u001b[49m\u001b[38;5;241;43m=\u001b[39;49m\u001b[43mfeatures\u001b[49m\u001b[43m)\u001b[49m\n\u001b[0;32m     13\u001b[0m     \u001b[38;5;28;01mreturn\u001b[39;00m dataset\n",
      "File \u001b[1;32mc:\\Users\\gsotelo\\repos\\gameNgen-repro-1\\venv\\Lib\\site-packages\\datasets\\arrow_dataset.py:971\u001b[0m, in \u001b[0;36mDataset.from_list\u001b[1;34m(cls, mapping, features, info, split)\u001b[0m\n\u001b[0;32m    969\u001b[0m \u001b[38;5;66;03m# for simplicity and consistency wrt OptimizedTypedSequence we do not use InMemoryTable.from_pylist here\u001b[39;00m\n\u001b[0;32m    970\u001b[0m mapping \u001b[38;5;241m=\u001b[39m {k: [r\u001b[38;5;241m.\u001b[39mget(k) \u001b[38;5;28;01mfor\u001b[39;00m r \u001b[38;5;129;01min\u001b[39;00m mapping] \u001b[38;5;28;01mfor\u001b[39;00m k \u001b[38;5;129;01min\u001b[39;00m mapping[\u001b[38;5;241m0\u001b[39m]} \u001b[38;5;28;01mif\u001b[39;00m mapping \u001b[38;5;28;01melse\u001b[39;00m {}\n\u001b[1;32m--> 971\u001b[0m \u001b[38;5;28;01mreturn\u001b[39;00m \u001b[38;5;28;43mcls\u001b[39;49m\u001b[38;5;241;43m.\u001b[39;49m\u001b[43mfrom_dict\u001b[49m\u001b[43m(\u001b[49m\u001b[43mmapping\u001b[49m\u001b[43m,\u001b[49m\u001b[43m \u001b[49m\u001b[43mfeatures\u001b[49m\u001b[43m,\u001b[49m\u001b[43m \u001b[49m\u001b[43minfo\u001b[49m\u001b[43m,\u001b[49m\u001b[43m \u001b[49m\u001b[43msplit\u001b[49m\u001b[43m)\u001b[49m\n",
      "File \u001b[1;32mc:\\Users\\gsotelo\\repos\\gameNgen-repro-1\\venv\\Lib\\site-packages\\datasets\\arrow_dataset.py:925\u001b[0m, in \u001b[0;36mDataset.from_dict\u001b[1;34m(cls, mapping, features, info, split)\u001b[0m\n\u001b[0;32m    922\u001b[0m         data \u001b[38;5;241m=\u001b[39m cast_array_to_feature(data, features[col]) \u001b[38;5;28;01mif\u001b[39;00m features \u001b[38;5;129;01mis\u001b[39;00m \u001b[38;5;129;01mnot\u001b[39;00m \u001b[38;5;28;01mNone\u001b[39;00m \u001b[38;5;28;01melse\u001b[39;00m data\n\u001b[0;32m    923\u001b[0m     \u001b[38;5;28;01melse\u001b[39;00m:\n\u001b[0;32m    924\u001b[0m         data \u001b[38;5;241m=\u001b[39m OptimizedTypedSequence(\n\u001b[1;32m--> 925\u001b[0m             \u001b[43mfeatures\u001b[49m\u001b[38;5;241;43m.\u001b[39;49m\u001b[43mencode_column\u001b[49m\u001b[43m(\u001b[49m\u001b[43mdata\u001b[49m\u001b[43m,\u001b[49m\u001b[43m \u001b[49m\u001b[43mcol\u001b[49m\u001b[43m)\u001b[49m \u001b[38;5;28;01mif\u001b[39;00m features \u001b[38;5;129;01mis\u001b[39;00m \u001b[38;5;129;01mnot\u001b[39;00m \u001b[38;5;28;01mNone\u001b[39;00m \u001b[38;5;28;01melse\u001b[39;00m data,\n\u001b[0;32m    926\u001b[0m             \u001b[38;5;28mtype\u001b[39m\u001b[38;5;241m=\u001b[39mfeatures[col] \u001b[38;5;28;01mif\u001b[39;00m features \u001b[38;5;129;01mis\u001b[39;00m \u001b[38;5;129;01mnot\u001b[39;00m \u001b[38;5;28;01mNone\u001b[39;00m \u001b[38;5;28;01melse\u001b[39;00m \u001b[38;5;28;01mNone\u001b[39;00m,\n\u001b[0;32m    927\u001b[0m             col\u001b[38;5;241m=\u001b[39mcol,\n\u001b[0;32m    928\u001b[0m         )\n\u001b[0;32m    929\u001b[0m     arrow_typed_mapping[col] \u001b[38;5;241m=\u001b[39m data\n\u001b[0;32m    930\u001b[0m mapping \u001b[38;5;241m=\u001b[39m arrow_typed_mapping\n",
      "File \u001b[1;32mc:\\Users\\gsotelo\\repos\\gameNgen-repro-1\\venv\\Lib\\site-packages\\datasets\\features\\features.py:2006\u001b[0m, in \u001b[0;36mFeatures.encode_column\u001b[1;34m(self, column, column_name)\u001b[0m\n\u001b[0;32m   1993\u001b[0m \u001b[38;5;250m\u001b[39m\u001b[38;5;124;03m\"\"\"\u001b[39;00m\n\u001b[0;32m   1994\u001b[0m \u001b[38;5;124;03mEncode column into a format for Arrow.\u001b[39;00m\n\u001b[0;32m   1995\u001b[0m \n\u001b[1;32m   (...)\u001b[0m\n\u001b[0;32m   2003\u001b[0m \u001b[38;5;124;03m    `list[Any]`\u001b[39;00m\n\u001b[0;32m   2004\u001b[0m \u001b[38;5;124;03m\"\"\"\u001b[39;00m\n\u001b[0;32m   2005\u001b[0m column \u001b[38;5;241m=\u001b[39m cast_to_python_objects(column)\n\u001b[1;32m-> 2006\u001b[0m \u001b[38;5;28;01mreturn\u001b[39;00m [\u001b[43mencode_nested_example\u001b[49m\u001b[43m(\u001b[49m\u001b[38;5;28;43mself\u001b[39;49m\u001b[43m[\u001b[49m\u001b[43mcolumn_name\u001b[49m\u001b[43m]\u001b[49m\u001b[43m,\u001b[49m\u001b[43m \u001b[49m\u001b[43mobj\u001b[49m\u001b[43m,\u001b[49m\u001b[43m \u001b[49m\u001b[43mlevel\u001b[49m\u001b[38;5;241;43m=\u001b[39;49m\u001b[38;5;241;43m1\u001b[39;49m\u001b[43m)\u001b[49m \u001b[38;5;28;01mfor\u001b[39;00m obj \u001b[38;5;129;01min\u001b[39;00m column]\n",
      "File \u001b[1;32mc:\\Users\\gsotelo\\repos\\gameNgen-repro-1\\venv\\Lib\\site-packages\\datasets\\features\\features.py:1343\u001b[0m, in \u001b[0;36mencode_nested_example\u001b[1;34m(schema, obj, level)\u001b[0m\n\u001b[0;32m   1339\u001b[0m             \u001b[38;5;28;01mbreak\u001b[39;00m\n\u001b[0;32m   1340\u001b[0m     \u001b[38;5;66;03m# be careful when comparing tensors here\u001b[39;00m\n\u001b[0;32m   1341\u001b[0m     \u001b[38;5;28;01mif\u001b[39;00m (\n\u001b[0;32m   1342\u001b[0m         \u001b[38;5;129;01mnot\u001b[39;00m \u001b[38;5;28misinstance\u001b[39m(first_elmt, \u001b[38;5;28mlist\u001b[39m)\n\u001b[1;32m-> 1343\u001b[0m         \u001b[38;5;129;01mor\u001b[39;00m \u001b[43mencode_nested_example\u001b[49m\u001b[43m(\u001b[49m\u001b[43mschema\u001b[49m\u001b[38;5;241;43m.\u001b[39;49m\u001b[43mfeature\u001b[49m\u001b[43m,\u001b[49m\u001b[43m \u001b[49m\u001b[43mfirst_elmt\u001b[49m\u001b[43m,\u001b[49m\u001b[43m \u001b[49m\u001b[43mlevel\u001b[49m\u001b[38;5;241;43m=\u001b[39;49m\u001b[43mlevel\u001b[49m\u001b[43m \u001b[49m\u001b[38;5;241;43m+\u001b[39;49m\u001b[43m \u001b[49m\u001b[38;5;241;43m1\u001b[39;49m\u001b[43m)\u001b[49m \u001b[38;5;241m!=\u001b[39m first_elmt\n\u001b[0;32m   1344\u001b[0m     ):\n\u001b[0;32m   1345\u001b[0m         \u001b[38;5;28;01mreturn\u001b[39;00m [encode_nested_example(schema\u001b[38;5;241m.\u001b[39mfeature, o, level\u001b[38;5;241m=\u001b[39mlevel \u001b[38;5;241m+\u001b[39m \u001b[38;5;241m1\u001b[39m) \u001b[38;5;28;01mfor\u001b[39;00m o \u001b[38;5;129;01min\u001b[39;00m obj]\n\u001b[0;32m   1346\u001b[0m \u001b[38;5;28;01mreturn\u001b[39;00m \u001b[38;5;28mlist\u001b[39m(obj)\n",
      "File \u001b[1;32mc:\\Users\\gsotelo\\repos\\gameNgen-repro-1\\venv\\Lib\\site-packages\\datasets\\features\\features.py:1350\u001b[0m, in \u001b[0;36mencode_nested_example\u001b[1;34m(schema, obj, level)\u001b[0m\n\u001b[0;32m   1347\u001b[0m \u001b[38;5;66;03m# Object with special encoding:\u001b[39;00m\n\u001b[0;32m   1348\u001b[0m \u001b[38;5;66;03m# ClassLabel will convert from string to int, TranslationVariableLanguages does some checks\u001b[39;00m\n\u001b[0;32m   1349\u001b[0m \u001b[38;5;28;01melif\u001b[39;00m \u001b[38;5;28misinstance\u001b[39m(schema, (Audio, Image, ClassLabel, TranslationVariableLanguages, Value, _ArrayXD)):\n\u001b[1;32m-> 1350\u001b[0m     \u001b[38;5;28;01mreturn\u001b[39;00m \u001b[43mschema\u001b[49m\u001b[38;5;241;43m.\u001b[39;49m\u001b[43mencode_example\u001b[49m\u001b[43m(\u001b[49m\u001b[43mobj\u001b[49m\u001b[43m)\u001b[49m \u001b[38;5;28;01mif\u001b[39;00m obj \u001b[38;5;129;01mis\u001b[39;00m \u001b[38;5;129;01mnot\u001b[39;00m \u001b[38;5;28;01mNone\u001b[39;00m \u001b[38;5;28;01melse\u001b[39;00m \u001b[38;5;28;01mNone\u001b[39;00m\n\u001b[0;32m   1351\u001b[0m \u001b[38;5;66;03m# Other object should be directly convertible to a native Arrow type (like Translation and Translation)\u001b[39;00m\n\u001b[0;32m   1352\u001b[0m \u001b[38;5;28;01mreturn\u001b[39;00m obj\n",
      "File \u001b[1;32mc:\\Users\\gsotelo\\repos\\gameNgen-repro-1\\venv\\Lib\\site-packages\\datasets\\features\\features.py:527\u001b[0m, in \u001b[0;36mValue.encode_example\u001b[1;34m(self, value)\u001b[0m\n\u001b[0;32m    525\u001b[0m     \u001b[38;5;28;01mreturn\u001b[39;00m \u001b[38;5;28mbool\u001b[39m(value)\n\u001b[0;32m    526\u001b[0m \u001b[38;5;28;01melif\u001b[39;00m pa\u001b[38;5;241m.\u001b[39mtypes\u001b[38;5;241m.\u001b[39mis_integer(\u001b[38;5;28mself\u001b[39m\u001b[38;5;241m.\u001b[39mpa_type):\n\u001b[1;32m--> 527\u001b[0m     \u001b[38;5;28;01mreturn\u001b[39;00m \u001b[38;5;28;43mint\u001b[39;49m\u001b[43m(\u001b[49m\u001b[43mvalue\u001b[49m\u001b[43m)\u001b[49m\n\u001b[0;32m    528\u001b[0m \u001b[38;5;28;01melif\u001b[39;00m pa\u001b[38;5;241m.\u001b[39mtypes\u001b[38;5;241m.\u001b[39mis_floating(\u001b[38;5;28mself\u001b[39m\u001b[38;5;241m.\u001b[39mpa_type):\n\u001b[0;32m    529\u001b[0m     \u001b[38;5;28;01mreturn\u001b[39;00m \u001b[38;5;28mfloat\u001b[39m(value)\n",
      "\u001b[1;31mTypeError\u001b[0m: int() argument must be a string, a bytes-like object or a real number, not 'list'"
     ]
    }
   ],
   "source": [
    "from datasets import Dataset, Features, Image, Value, Sequence\n",
    "\n",
    "def generate_hf_parquet_dataset(entries):\n",
    "    features = Features(\n",
    "        {\n",
    "            \"actions\": Sequence(Value(\"int32\")),\n",
    "            \"scores\": Sequence(Value(\"int32\")),\n",
    "            \"images\": Sequence(Image())\n",
    "        }\n",
    "    )\n",
    "    dataset = Dataset.from_list(entries, features=features)\n",
    "\n",
    "    return dataset\n",
    "\n",
    "entries = [{\n",
    "    \"actions\": actions,\n",
    "    \"scores\": scores,\n",
    "    \"images\": images\n",
    "}]\n",
    "\n",
    "dataset = generate_hf_parquet_dataset(entries)\n",
    "# dataset.save_to_disk(\"smb_rl_dataset.parquet\")\n",
    "dataset.push_to_hub(\"Gabaloo1/SMB_RL\")"
   ]
  }
 ],
 "metadata": {
  "kernelspec": {
   "display_name": "venv",
   "language": "python",
   "name": "python3"
  },
  "language_info": {
   "codemirror_mode": {
    "name": "ipython",
    "version": 3
   },
   "file_extension": ".py",
   "mimetype": "text/x-python",
   "name": "python",
   "nbconvert_exporter": "python",
   "pygments_lexer": "ipython3",
   "version": "3.12.6"
  }
 },
 "nbformat": 4,
 "nbformat_minor": 2
}
